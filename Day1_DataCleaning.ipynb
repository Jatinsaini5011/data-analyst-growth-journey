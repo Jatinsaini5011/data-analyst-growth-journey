{
 "cells": [
  {
   "cell_type": "code",
   "execution_count": 1,
   "id": "3b59b860",
   "metadata": {},
   "outputs": [
    {
     "name": "stdout",
     "output_type": "stream",
     "text": [
      "        date device_id  error_count  response_time_ms\n",
      "0 2025-10-01      dev1            0             120.0\n",
      "1 2025-10-01      dev2            2             210.0\n",
      "3 2025-10-03      dev4            1             300.0\n"
     ]
    }
   ],
   "source": [
    "import pandas as pd\n",
    "\n",
    "# create sample data\n",
    "df = pd.DataFrame({\n",
    "    \"date\": [\"2025-10-01\",\"2025-10-01\",\"\", \"2025-10-03\"],\n",
    "    \"device_id\": [\"dev1\",\"dev2\",\"dev3\",\"dev4\"],\n",
    "    \"error_count\": [0, 2, None, 1],\n",
    "    \"response_time_ms\": [120, None, 500, 300]\n",
    "})\n",
    "\n",
    "# save sample CSV (skip if you already have one)\n",
    "df.to_csv(\"nokia_logs_raw.csv\", index=False)\n",
    "\n",
    "# read and clean\n",
    "df = pd.read_csv(\"nokia_logs_raw.csv\")\n",
    "# 1. drop rows with empty date or device_id\n",
    "df = df.dropna(subset=[\"date\",\"device_id\"])\n",
    "# 2. fill numeric NaNs with 0 or median\n",
    "df[\"error_count\"] = df[\"error_count\"].fillna(0).astype(int)\n",
    "df[\"response_time_ms\"] = df[\"response_time_ms\"].fillna(df[\"response_time_ms\"].median())\n",
    "# 3. convert date to datetime\n",
    "df[\"date\"] = pd.to_datetime(df[\"date\"])\n",
    "# 4. save cleaned\n",
    "df.to_csv(\"nokia_logs_cleaned.csv\", index=False)\n",
    "print(df)"
   ]
  },
  {
   "cell_type": "code",
   "execution_count": null,
   "id": "3a8017b9",
   "metadata": {},
   "outputs": [],
   "source": []
  }
 ],
 "metadata": {
  "kernelspec": {
   "display_name": "Python 3 (ipykernel)",
   "language": "python",
   "name": "python3"
  },
  "language_info": {
   "codemirror_mode": {
    "name": "ipython",
    "version": 3
   },
   "file_extension": ".py",
   "mimetype": "text/x-python",
   "name": "python",
   "nbconvert_exporter": "python",
   "pygments_lexer": "ipython3",
   "version": "3.7.8"
  }
 },
 "nbformat": 4,
 "nbformat_minor": 5
}
